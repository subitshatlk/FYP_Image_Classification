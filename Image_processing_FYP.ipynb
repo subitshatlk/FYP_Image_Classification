{
  "nbformat": 4,
  "nbformat_minor": 0,
  "metadata": {
    "colab": {
      "name": "Image_processing_FYP.ipynb",
      "provenance": []
    },
    "kernelspec": {
      "name": "python3",
      "display_name": "Python 3"
    },
    "language_info": {
      "name": "python"
    },
    "accelerator": "GPU"
  },
  "cells": [
    {
      "cell_type": "code",
      "execution_count": 1,
      "metadata": {
        "colab": {
          "base_uri": "https://localhost:8080/"
        },
        "id": "ZFT2fbydNh0r",
        "outputId": "d4f1f12c-a926-4ae3-b78a-a279666fac25"
      },
      "outputs": [
        {
          "output_type": "stream",
          "name": "stdout",
          "text": [
            "Drive already mounted at /content/drive; to attempt to forcibly remount, call drive.mount(\"/content/drive\", force_remount=True).\n"
          ]
        }
      ],
      "source": [
        "from google.colab import drive\n",
        "drive.mount('/content/drive')"
      ]
    },
    {
      "cell_type": "code",
      "source": [
        "from google.colab import drive\n",
        "drive.mount('/content/drive')"
      ],
      "metadata": {
        "id": "eBRGrnfBNxLS",
        "colab": {
          "base_uri": "https://localhost:8080/"
        },
        "outputId": "6dc27fb5-2417-46aa-c18c-f94b5ddd3de9"
      },
      "execution_count": null,
      "outputs": [
        {
          "output_type": "stream",
          "name": "stdout",
          "text": [
            "Drive already mounted at /content/drive; to attempt to forcibly remount, call drive.mount(\"/content/drive\", force_remount=True).\n"
          ]
        }
      ]
    },
    {
      "cell_type": "code",
      "source": [
        "cd /content/drive/MyDrive/FYP/images/images-new"
      ],
      "metadata": {
        "colab": {
          "base_uri": "https://localhost:8080/"
        },
        "id": "xoWywqWaOw7v",
        "outputId": "02b3e30f-6595-471a-c7d8-5ff5730df7df"
      },
      "execution_count": 2,
      "outputs": [
        {
          "output_type": "stream",
          "name": "stdout",
          "text": [
            "/content/drive/MyDrive/FYP/images/images-new\n"
          ]
        }
      ]
    },
    {
      "cell_type": "code",
      "source": [
        "%tensorflow_version 1.x"
      ],
      "metadata": {
        "colab": {
          "base_uri": "https://localhost:8080/"
        },
        "id": "lgqLv-XSO3rY",
        "outputId": "efe581f8-b392-43de-ea4c-fb2664026116"
      },
      "execution_count": 3,
      "outputs": [
        {
          "output_type": "stream",
          "name": "stdout",
          "text": [
            "TensorFlow 1.x selected.\n"
          ]
        }
      ]
    },
    {
      "cell_type": "code",
      "source": [
        "import tensorflow\n",
        "print(tensorflow.__version__)"
      ],
      "metadata": {
        "colab": {
          "base_uri": "https://localhost:8080/"
        },
        "id": "t0SbsNudO9AZ",
        "outputId": "9713f872-670b-4ce8-a68c-61005c8c6fcb"
      },
      "execution_count": 4,
      "outputs": [
        {
          "output_type": "stream",
          "name": "stdout",
          "text": [
            "1.15.2\n"
          ]
        }
      ]
    },
    {
      "cell_type": "code",
      "source": [
        "import cv2,os\n",
        "data_path='/content/drive/MyDrive/FYP/images/images-new'\n",
        "categories=os.listdir(data_path)\n",
        "labels=[i for i in range(len(categories))]\n",
        "\n",
        "label_dict=dict(zip(categories,labels)) #empty dictionary\n",
        "print(label_dict)\n",
        "print(categories)\n",
        "print(labels)"
      ],
      "metadata": {
        "colab": {
          "base_uri": "https://localhost:8080/"
        },
        "id": "mV9BesA_PAxP",
        "outputId": "a1b3659b-785a-40c4-c74a-40874ac2d49a"
      },
      "execution_count": 5,
      "outputs": [
        {
          "output_type": "stream",
          "name": "stdout",
          "text": [
            "{'sui': 0, 'hap': 1}\n",
            "['sui', 'hap']\n",
            "[0, 1]\n"
          ]
        }
      ]
    },
    {
      "cell_type": "code",
      "source": [
        "img_size=100\n",
        "data=[]\n",
        "target=[]\n",
        "\n",
        "for category in categories:\n",
        "    folder_path=os.path.join(data_path,category)\n",
        "    img_names=os.listdir(folder_path)\n",
        "        \n",
        "    for img_name in img_names:\n",
        "        img_path=os.path.join(folder_path,img_name)\n",
        "        img=cv2.imread(img_path)\n",
        "\n",
        "        try:  \n",
        "            resized=cv2.resize(img,(img_size,img_size))\n",
        "            #resizing the image  into 100x100, since we need a fixed common size for all the images in the dataset\n",
        "            data.append(resized)\n",
        "            target.append(label_dict[category])\n",
        "            #appending the image and the label(categorized) into the list (dataset)\n",
        "        except Exception as e:\n",
        "            print('Exception:',e)\n",
        "            #if any exception rasied, the exception will be printed here. And pass to the next image"
      ],
      "metadata": {
        "id": "goWb3e3xePDG"
      },
      "execution_count": 7,
      "outputs": []
    },
    {
      "cell_type": "code",
      "source": [
        "import numpy as np\n",
        "data=np.array(data)/255.0\n",
        "data=np.reshape(data,(data.shape[0],img_size,img_size,3))\n",
        "target=np.array(target)\n",
        "from keras.utils import np_utils\n",
        "new_target=np_utils.to_categorical(target)"
      ],
      "metadata": {
        "colab": {
          "base_uri": "https://localhost:8080/"
        },
        "id": "eKKZ4OGNeRoZ",
        "outputId": "bcc777b7-45e0-4750-b2dd-8dc74846ba7d"
      },
      "execution_count": 8,
      "outputs": [
        {
          "output_type": "stream",
          "name": "stderr",
          "text": [
            "Using TensorFlow backend.\n"
          ]
        }
      ]
    },
    {
      "cell_type": "code",
      "source": [
        "new_target.shape"
      ],
      "metadata": {
        "colab": {
          "base_uri": "https://localhost:8080/"
        },
        "id": "Mrbhy3f4eUoL",
        "outputId": "f05518bb-07d1-4161-c481-d90decb133fe"
      },
      "execution_count": 9,
      "outputs": [
        {
          "output_type": "execute_result",
          "data": {
            "text/plain": [
              "(1376, 2)"
            ]
          },
          "metadata": {},
          "execution_count": 9
        }
      ]
    },
    {
      "cell_type": "code",
      "source": [
        "data.shape"
      ],
      "metadata": {
        "colab": {
          "base_uri": "https://localhost:8080/"
        },
        "id": "wqh8CanZeWz6",
        "outputId": "9b118e8a-8f39-499b-e14d-4c67b3a27fd6"
      },
      "execution_count": 10,
      "outputs": [
        {
          "output_type": "execute_result",
          "data": {
            "text/plain": [
              "(1376, 100, 100, 3)"
            ]
          },
          "metadata": {},
          "execution_count": 10
        }
      ]
    },
    {
      "cell_type": "code",
      "source": [
        "data.shape[1:]"
      ],
      "metadata": {
        "colab": {
          "base_uri": "https://localhost:8080/"
        },
        "id": "uSb3FmKXeZZS",
        "outputId": "34eec9cc-e7de-4caa-bce4-6171698aaa54"
      },
      "execution_count": 11,
      "outputs": [
        {
          "output_type": "execute_result",
          "data": {
            "text/plain": [
              "(100, 100, 3)"
            ]
          },
          "metadata": {},
          "execution_count": 11
        }
      ]
    },
    {
      "cell_type": "code",
      "source": [
        "from keras.models import Sequential\n",
        "from keras.layers import Dense,Activation,Flatten,Dropout\n",
        "from keras.layers import Conv2D,MaxPooling2D\n",
        "from keras.callbacks import ModelCheckpoint\n",
        "\n",
        "model=Sequential()\n",
        "\n",
        "model.add(Conv2D(200,(3,3),input_shape=data.shape[1:]))\n",
        "model.add(Activation('relu'))\n",
        "model.add(MaxPooling2D(pool_size=(2,2)))\n",
        "#The first CNN layer followed by Relu and MaxPooling layers\n",
        "\n",
        "model.add(Conv2D(100,(3,3)))\n",
        "model.add(Activation('relu'))\n",
        "model.add(MaxPooling2D(pool_size=(2,2)))\n",
        "#The second convolution layer followed by Relu and MaxPooling layers\n",
        "\n",
        "model.add(Flatten())\n",
        "model.add(Dropout(0.5))\n",
        "#Flatten layer to stack the output convolutions from second convolution layer\n",
        "model.add(Dense(50,activation='relu'))\n",
        "#Dense layer of 64 neurons\n",
        "model.add(Dense(2,activation='softmax'))\n",
        "#The Final layer with two outputs for two categories\n",
        "\n",
        "model.compile(loss='categorical_crossentropy',optimizer='adam',metrics=['accuracy'])"
      ],
      "metadata": {
        "colab": {
          "base_uri": "https://localhost:8080/"
        },
        "id": "a8hBRkPDebg-",
        "outputId": "958058dd-b76b-49cb-e885-63982dec79fa"
      },
      "execution_count": 12,
      "outputs": [
        {
          "output_type": "stream",
          "name": "stdout",
          "text": [
            "WARNING:tensorflow:From /tensorflow-1.15.2/python3.7/tensorflow_core/python/ops/resource_variable_ops.py:1630: calling BaseResourceVariable.__init__ (from tensorflow.python.ops.resource_variable_ops) with constraint is deprecated and will be removed in a future version.\n",
            "Instructions for updating:\n",
            "If using Keras pass *_constraint arguments to layers.\n",
            "WARNING:tensorflow:From /tensorflow-1.15.2/python3.7/keras/backend/tensorflow_backend.py:4070: The name tf.nn.max_pool is deprecated. Please use tf.nn.max_pool2d instead.\n",
            "\n"
          ]
        }
      ]
    },
    {
      "cell_type": "code",
      "source": [
        "model.summary()"
      ],
      "metadata": {
        "colab": {
          "base_uri": "https://localhost:8080/"
        },
        "id": "DMnqYtybefSf",
        "outputId": "09f43891-3be3-4a01-ead3-8b7b463b32a0"
      },
      "execution_count": 13,
      "outputs": [
        {
          "output_type": "stream",
          "name": "stdout",
          "text": [
            "Model: \"sequential_1\"\n",
            "_________________________________________________________________\n",
            "Layer (type)                 Output Shape              Param #   \n",
            "=================================================================\n",
            "conv2d_1 (Conv2D)            (None, 98, 98, 200)       5600      \n",
            "_________________________________________________________________\n",
            "activation_1 (Activation)    (None, 98, 98, 200)       0         \n",
            "_________________________________________________________________\n",
            "max_pooling2d_1 (MaxPooling2 (None, 49, 49, 200)       0         \n",
            "_________________________________________________________________\n",
            "conv2d_2 (Conv2D)            (None, 47, 47, 100)       180100    \n",
            "_________________________________________________________________\n",
            "activation_2 (Activation)    (None, 47, 47, 100)       0         \n",
            "_________________________________________________________________\n",
            "max_pooling2d_2 (MaxPooling2 (None, 23, 23, 100)       0         \n",
            "_________________________________________________________________\n",
            "flatten_1 (Flatten)          (None, 52900)             0         \n",
            "_________________________________________________________________\n",
            "dropout_1 (Dropout)          (None, 52900)             0         \n",
            "_________________________________________________________________\n",
            "dense_1 (Dense)              (None, 50)                2645050   \n",
            "_________________________________________________________________\n",
            "dense_2 (Dense)              (None, 2)                 102       \n",
            "=================================================================\n",
            "Total params: 2,830,852\n",
            "Trainable params: 2,830,852\n",
            "Non-trainable params: 0\n",
            "_________________________________________________________________\n"
          ]
        }
      ]
    },
    {
      "cell_type": "code",
      "source": [
        "from sklearn.model_selection import train_test_split\n",
        "train_data,test_data,train_target,test_target=train_test_split(data,new_target,test_size=0.1)"
      ],
      "metadata": {
        "id": "w0eAYTWmehsW"
      },
      "execution_count": 14,
      "outputs": []
    },
    {
      "cell_type": "code",
      "source": [
        "train_data.shape"
      ],
      "metadata": {
        "colab": {
          "base_uri": "https://localhost:8080/"
        },
        "id": "b0HFec-Fekg8",
        "outputId": "cad38fb9-8b8a-4dea-e168-380020d02feb"
      },
      "execution_count": 15,
      "outputs": [
        {
          "output_type": "execute_result",
          "data": {
            "text/plain": [
              "(1238, 100, 100, 3)"
            ]
          },
          "metadata": {},
          "execution_count": 15
        }
      ]
    },
    {
      "cell_type": "code",
      "source": [
        "train_target.shape"
      ],
      "metadata": {
        "colab": {
          "base_uri": "https://localhost:8080/"
        },
        "id": "v1IVLVoHemnz",
        "outputId": "cf756c97-cb37-43d3-893d-87d1030ba858"
      },
      "execution_count": 16,
      "outputs": [
        {
          "output_type": "execute_result",
          "data": {
            "text/plain": [
              "(1238, 2)"
            ]
          },
          "metadata": {},
          "execution_count": 16
        }
      ]
    },
    {
      "cell_type": "code",
      "source": [
        "#checkpoint = ModelCheckpoint('model-{epoch:03d}.model',monitor='val_loss',verbose=0,save_best_only=True,mode='auto')\n",
        "history=model.fit(train_data,train_target,epochs=200,validation_split=0.2)"
      ],
      "metadata": {
        "colab": {
          "base_uri": "https://localhost:8080/"
        },
        "id": "pQ0hQj9xeow2",
        "outputId": "052ebd80-7745-423f-cec5-baec7025f6a6"
      },
      "execution_count": 17,
      "outputs": [
        {
          "output_type": "stream",
          "name": "stdout",
          "text": [
            "WARNING:tensorflow:From /tensorflow-1.15.2/python3.7/keras/backend/tensorflow_backend.py:422: The name tf.global_variables is deprecated. Please use tf.compat.v1.global_variables instead.\n",
            "\n",
            "Train on 990 samples, validate on 248 samples\n",
            "Epoch 1/200\n",
            "990/990 [==============================] - 10s 10ms/step - loss: 0.7041 - accuracy: 0.5909 - val_loss: 0.6193 - val_accuracy: 0.6492\n",
            "Epoch 2/200\n",
            "990/990 [==============================] - 4s 4ms/step - loss: 0.5915 - accuracy: 0.6929 - val_loss: 0.5934 - val_accuracy: 0.6935\n",
            "Epoch 3/200\n",
            "990/990 [==============================] - 4s 4ms/step - loss: 0.5340 - accuracy: 0.7364 - val_loss: 0.5796 - val_accuracy: 0.7097\n",
            "Epoch 4/200\n",
            "990/990 [==============================] - 4s 4ms/step - loss: 0.5038 - accuracy: 0.7444 - val_loss: 0.5992 - val_accuracy: 0.6976\n",
            "Epoch 5/200\n",
            "990/990 [==============================] - 4s 4ms/step - loss: 0.4739 - accuracy: 0.7899 - val_loss: 0.6865 - val_accuracy: 0.6694\n",
            "Epoch 6/200\n",
            "990/990 [==============================] - 4s 4ms/step - loss: 0.4161 - accuracy: 0.8192 - val_loss: 0.7538 - val_accuracy: 0.6734\n",
            "Epoch 7/200\n",
            "990/990 [==============================] - 4s 4ms/step - loss: 0.3756 - accuracy: 0.8212 - val_loss: 0.6668 - val_accuracy: 0.6573\n",
            "Epoch 8/200\n",
            "990/990 [==============================] - 4s 4ms/step - loss: 0.3144 - accuracy: 0.8556 - val_loss: 0.8204 - val_accuracy: 0.6613\n",
            "Epoch 9/200\n",
            "990/990 [==============================] - 4s 4ms/step - loss: 0.2651 - accuracy: 0.8838 - val_loss: 0.8175 - val_accuracy: 0.6895\n",
            "Epoch 10/200\n",
            "990/990 [==============================] - 4s 4ms/step - loss: 0.2364 - accuracy: 0.8949 - val_loss: 0.8655 - val_accuracy: 0.6855\n",
            "Epoch 11/200\n",
            "990/990 [==============================] - 4s 4ms/step - loss: 0.2050 - accuracy: 0.9152 - val_loss: 0.9904 - val_accuracy: 0.6976\n",
            "Epoch 12/200\n",
            "990/990 [==============================] - 4s 4ms/step - loss: 0.1771 - accuracy: 0.9323 - val_loss: 1.1388 - val_accuracy: 0.6976\n",
            "Epoch 13/200\n",
            "990/990 [==============================] - 4s 4ms/step - loss: 0.1540 - accuracy: 0.9434 - val_loss: 1.4873 - val_accuracy: 0.6895\n",
            "Epoch 14/200\n",
            "990/990 [==============================] - 4s 4ms/step - loss: 0.1598 - accuracy: 0.9374 - val_loss: 1.6437 - val_accuracy: 0.7056\n",
            "Epoch 15/200\n",
            "990/990 [==============================] - 4s 4ms/step - loss: 0.0980 - accuracy: 0.9636 - val_loss: 1.5330 - val_accuracy: 0.6976\n",
            "Epoch 16/200\n",
            "990/990 [==============================] - 4s 4ms/step - loss: 0.0966 - accuracy: 0.9636 - val_loss: 2.1006 - val_accuracy: 0.7218\n",
            "Epoch 17/200\n",
            "990/990 [==============================] - 4s 4ms/step - loss: 0.0997 - accuracy: 0.9677 - val_loss: 1.7299 - val_accuracy: 0.7016\n",
            "Epoch 18/200\n",
            "990/990 [==============================] - 4s 4ms/step - loss: 0.1132 - accuracy: 0.9616 - val_loss: 1.7644 - val_accuracy: 0.7056\n",
            "Epoch 19/200\n",
            "990/990 [==============================] - 4s 4ms/step - loss: 0.0819 - accuracy: 0.9758 - val_loss: 1.8757 - val_accuracy: 0.6855\n",
            "Epoch 20/200\n",
            "990/990 [==============================] - 4s 4ms/step - loss: 0.0844 - accuracy: 0.9717 - val_loss: 2.3337 - val_accuracy: 0.6613\n",
            "Epoch 21/200\n",
            "990/990 [==============================] - 4s 4ms/step - loss: 0.1159 - accuracy: 0.9667 - val_loss: 1.7237 - val_accuracy: 0.6653\n",
            "Epoch 22/200\n",
            "990/990 [==============================] - 4s 4ms/step - loss: 0.0709 - accuracy: 0.9758 - val_loss: 2.0673 - val_accuracy: 0.6653\n",
            "Epoch 23/200\n",
            "990/990 [==============================] - 4s 4ms/step - loss: 0.1226 - accuracy: 0.9626 - val_loss: 1.6762 - val_accuracy: 0.7016\n",
            "Epoch 24/200\n",
            "990/990 [==============================] - 4s 4ms/step - loss: 0.1055 - accuracy: 0.9657 - val_loss: 2.1532 - val_accuracy: 0.6935\n",
            "Epoch 25/200\n",
            "990/990 [==============================] - 4s 4ms/step - loss: 0.0609 - accuracy: 0.9798 - val_loss: 2.1519 - val_accuracy: 0.6855\n",
            "Epoch 26/200\n",
            "990/990 [==============================] - 4s 4ms/step - loss: 0.0402 - accuracy: 0.9859 - val_loss: 2.2660 - val_accuracy: 0.6613\n",
            "Epoch 27/200\n",
            "990/990 [==============================] - 4s 4ms/step - loss: 0.0527 - accuracy: 0.9808 - val_loss: 2.6489 - val_accuracy: 0.6815\n",
            "Epoch 28/200\n",
            "990/990 [==============================] - 4s 4ms/step - loss: 0.0366 - accuracy: 0.9869 - val_loss: 2.5259 - val_accuracy: 0.6976\n",
            "Epoch 29/200\n",
            "990/990 [==============================] - 4s 4ms/step - loss: 0.0288 - accuracy: 0.9889 - val_loss: 2.9051 - val_accuracy: 0.6895\n",
            "Epoch 30/200\n",
            "990/990 [==============================] - 4s 4ms/step - loss: 0.0282 - accuracy: 0.9919 - val_loss: 2.5890 - val_accuracy: 0.6774\n",
            "Epoch 31/200\n",
            "990/990 [==============================] - 4s 4ms/step - loss: 0.0423 - accuracy: 0.9919 - val_loss: 2.6602 - val_accuracy: 0.7056\n",
            "Epoch 32/200\n",
            "990/990 [==============================] - 4s 4ms/step - loss: 0.0234 - accuracy: 0.9949 - val_loss: 2.9785 - val_accuracy: 0.7056\n",
            "Epoch 33/200\n",
            "990/990 [==============================] - 4s 4ms/step - loss: 0.0262 - accuracy: 0.9909 - val_loss: 2.3305 - val_accuracy: 0.6976\n",
            "Epoch 34/200\n",
            "990/990 [==============================] - 4s 4ms/step - loss: 0.0522 - accuracy: 0.9848 - val_loss: 2.4138 - val_accuracy: 0.6774\n",
            "Epoch 35/200\n",
            "990/990 [==============================] - 4s 4ms/step - loss: 0.0603 - accuracy: 0.9788 - val_loss: 2.5538 - val_accuracy: 0.6976\n",
            "Epoch 36/200\n",
            "990/990 [==============================] - 4s 4ms/step - loss: 0.0236 - accuracy: 0.9909 - val_loss: 2.6764 - val_accuracy: 0.6815\n",
            "Epoch 37/200\n",
            "990/990 [==============================] - 4s 4ms/step - loss: 0.0181 - accuracy: 0.9949 - val_loss: 2.9382 - val_accuracy: 0.6895\n",
            "Epoch 38/200\n",
            "990/990 [==============================] - 4s 4ms/step - loss: 0.0858 - accuracy: 0.9778 - val_loss: 1.7817 - val_accuracy: 0.6935\n",
            "Epoch 39/200\n",
            "990/990 [==============================] - 4s 4ms/step - loss: 0.0397 - accuracy: 0.9889 - val_loss: 2.1865 - val_accuracy: 0.6855\n",
            "Epoch 40/200\n",
            "990/990 [==============================] - 4s 4ms/step - loss: 0.0271 - accuracy: 0.9899 - val_loss: 2.1432 - val_accuracy: 0.6774\n",
            "Epoch 41/200\n",
            "990/990 [==============================] - 4s 4ms/step - loss: 0.0148 - accuracy: 0.9970 - val_loss: 2.4547 - val_accuracy: 0.6976\n",
            "Epoch 42/200\n",
            "990/990 [==============================] - 4s 4ms/step - loss: 0.0201 - accuracy: 0.9949 - val_loss: 2.3049 - val_accuracy: 0.6774\n",
            "Epoch 43/200\n",
            "990/990 [==============================] - 4s 4ms/step - loss: 0.0163 - accuracy: 0.9949 - val_loss: 3.0125 - val_accuracy: 0.7097\n",
            "Epoch 44/200\n",
            "990/990 [==============================] - 4s 4ms/step - loss: 0.0273 - accuracy: 0.9909 - val_loss: 2.8282 - val_accuracy: 0.7177\n",
            "Epoch 45/200\n",
            "990/990 [==============================] - 4s 4ms/step - loss: 0.0234 - accuracy: 0.9909 - val_loss: 2.2970 - val_accuracy: 0.6653\n",
            "Epoch 46/200\n",
            "990/990 [==============================] - 4s 4ms/step - loss: 0.0172 - accuracy: 0.9960 - val_loss: 2.3442 - val_accuracy: 0.6694\n",
            "Epoch 47/200\n",
            "990/990 [==============================] - 4s 4ms/step - loss: 0.0092 - accuracy: 0.9970 - val_loss: 2.3043 - val_accuracy: 0.6815\n",
            "Epoch 48/200\n",
            "990/990 [==============================] - 4s 4ms/step - loss: 0.0050 - accuracy: 0.9980 - val_loss: 2.5962 - val_accuracy: 0.7137\n",
            "Epoch 49/200\n",
            "990/990 [==============================] - 4s 4ms/step - loss: 0.0186 - accuracy: 0.9949 - val_loss: 2.4829 - val_accuracy: 0.6573\n",
            "Epoch 50/200\n",
            "990/990 [==============================] - 4s 4ms/step - loss: 0.0427 - accuracy: 0.9899 - val_loss: 2.3319 - val_accuracy: 0.6653\n",
            "Epoch 51/200\n",
            "990/990 [==============================] - 4s 4ms/step - loss: 0.0784 - accuracy: 0.9758 - val_loss: 2.4099 - val_accuracy: 0.6492\n",
            "Epoch 52/200\n",
            "990/990 [==============================] - 4s 4ms/step - loss: 0.0381 - accuracy: 0.9859 - val_loss: 2.2101 - val_accuracy: 0.6331\n",
            "Epoch 53/200\n",
            "990/990 [==============================] - 4s 4ms/step - loss: 0.0239 - accuracy: 0.9909 - val_loss: 2.6132 - val_accuracy: 0.7056\n",
            "Epoch 54/200\n",
            "990/990 [==============================] - 4s 4ms/step - loss: 0.0377 - accuracy: 0.9899 - val_loss: 2.5205 - val_accuracy: 0.6532\n",
            "Epoch 55/200\n",
            "990/990 [==============================] - 4s 4ms/step - loss: 0.0170 - accuracy: 0.9960 - val_loss: 2.5721 - val_accuracy: 0.6694\n",
            "Epoch 56/200\n",
            "990/990 [==============================] - 4s 4ms/step - loss: 0.0301 - accuracy: 0.9919 - val_loss: 2.1518 - val_accuracy: 0.6532\n",
            "Epoch 57/200\n",
            "990/990 [==============================] - 4s 4ms/step - loss: 0.0269 - accuracy: 0.9889 - val_loss: 2.2234 - val_accuracy: 0.6774\n",
            "Epoch 58/200\n",
            "990/990 [==============================] - 4s 4ms/step - loss: 0.0209 - accuracy: 0.9960 - val_loss: 2.6830 - val_accuracy: 0.7016\n",
            "Epoch 59/200\n",
            "990/990 [==============================] - 4s 4ms/step - loss: 0.0152 - accuracy: 0.9960 - val_loss: 2.7571 - val_accuracy: 0.6774\n",
            "Epoch 60/200\n",
            "990/990 [==============================] - 4s 4ms/step - loss: 0.0212 - accuracy: 0.9939 - val_loss: 2.5237 - val_accuracy: 0.6734\n",
            "Epoch 61/200\n",
            "990/990 [==============================] - 4s 4ms/step - loss: 0.0128 - accuracy: 0.9970 - val_loss: 2.7788 - val_accuracy: 0.6815\n",
            "Epoch 62/200\n",
            "990/990 [==============================] - 4s 4ms/step - loss: 0.0042 - accuracy: 0.9990 - val_loss: 3.0086 - val_accuracy: 0.6895\n",
            "Epoch 63/200\n",
            "990/990 [==============================] - 4s 4ms/step - loss: 0.0047 - accuracy: 0.9990 - val_loss: 3.0833 - val_accuracy: 0.6976\n",
            "Epoch 64/200\n",
            "990/990 [==============================] - 4s 4ms/step - loss: 0.0087 - accuracy: 0.9980 - val_loss: 3.3317 - val_accuracy: 0.6976\n",
            "Epoch 65/200\n",
            "990/990 [==============================] - 4s 4ms/step - loss: 0.0050 - accuracy: 1.0000 - val_loss: 3.0202 - val_accuracy: 0.7016\n",
            "Epoch 66/200\n",
            "990/990 [==============================] - 4s 4ms/step - loss: 0.0066 - accuracy: 0.9980 - val_loss: 3.3594 - val_accuracy: 0.7097\n",
            "Epoch 67/200\n",
            "990/990 [==============================] - 4s 4ms/step - loss: 0.0175 - accuracy: 0.9939 - val_loss: 2.6702 - val_accuracy: 0.7056\n",
            "Epoch 68/200\n",
            "990/990 [==============================] - 4s 4ms/step - loss: 0.0041 - accuracy: 1.0000 - val_loss: 2.8646 - val_accuracy: 0.7258\n",
            "Epoch 69/200\n",
            "990/990 [==============================] - 4s 4ms/step - loss: 0.0065 - accuracy: 0.9980 - val_loss: 3.1594 - val_accuracy: 0.7056\n",
            "Epoch 70/200\n",
            "990/990 [==============================] - 4s 4ms/step - loss: 0.0404 - accuracy: 0.9970 - val_loss: 3.3490 - val_accuracy: 0.6935\n",
            "Epoch 71/200\n",
            "990/990 [==============================] - 4s 4ms/step - loss: 0.0235 - accuracy: 0.9960 - val_loss: 2.4653 - val_accuracy: 0.6573\n",
            "Epoch 72/200\n",
            "990/990 [==============================] - 4s 4ms/step - loss: 0.0297 - accuracy: 0.9939 - val_loss: 3.0025 - val_accuracy: 0.6815\n",
            "Epoch 73/200\n",
            "990/990 [==============================] - 4s 4ms/step - loss: 0.0094 - accuracy: 0.9960 - val_loss: 2.8159 - val_accuracy: 0.6895\n",
            "Epoch 74/200\n",
            "990/990 [==============================] - 4s 4ms/step - loss: 0.0043 - accuracy: 0.9990 - val_loss: 2.8619 - val_accuracy: 0.6855\n",
            "Epoch 75/200\n",
            "990/990 [==============================] - 4s 4ms/step - loss: 0.0045 - accuracy: 0.9990 - val_loss: 3.0839 - val_accuracy: 0.6976\n",
            "Epoch 76/200\n",
            "990/990 [==============================] - 4s 4ms/step - loss: 0.0076 - accuracy: 0.9980 - val_loss: 3.7889 - val_accuracy: 0.6573\n",
            "Epoch 77/200\n",
            "990/990 [==============================] - 4s 4ms/step - loss: 0.0041 - accuracy: 0.9990 - val_loss: 2.8920 - val_accuracy: 0.6815\n",
            "Epoch 78/200\n",
            "990/990 [==============================] - 4s 4ms/step - loss: 0.0020 - accuracy: 1.0000 - val_loss: 2.7933 - val_accuracy: 0.6855\n",
            "Epoch 79/200\n",
            "990/990 [==============================] - 4s 4ms/step - loss: 0.0021 - accuracy: 1.0000 - val_loss: 2.9917 - val_accuracy: 0.6935\n",
            "Epoch 80/200\n",
            "990/990 [==============================] - 4s 4ms/step - loss: 0.0142 - accuracy: 0.9980 - val_loss: 3.7797 - val_accuracy: 0.7177\n",
            "Epoch 81/200\n",
            "990/990 [==============================] - 4s 4ms/step - loss: 0.0112 - accuracy: 0.9970 - val_loss: 3.2147 - val_accuracy: 0.7137\n",
            "Epoch 82/200\n",
            "990/990 [==============================] - 4s 4ms/step - loss: 0.0046 - accuracy: 0.9990 - val_loss: 3.0780 - val_accuracy: 0.6935\n",
            "Epoch 83/200\n",
            "990/990 [==============================] - 4s 4ms/step - loss: 0.0036 - accuracy: 0.9990 - val_loss: 3.0148 - val_accuracy: 0.7016\n",
            "Epoch 84/200\n",
            "990/990 [==============================] - 4s 4ms/step - loss: 0.0103 - accuracy: 0.9949 - val_loss: 3.1905 - val_accuracy: 0.7016\n",
            "Epoch 85/200\n",
            "990/990 [==============================] - 4s 4ms/step - loss: 0.0077 - accuracy: 0.9990 - val_loss: 2.8564 - val_accuracy: 0.6653\n",
            "Epoch 86/200\n",
            "990/990 [==============================] - 4s 4ms/step - loss: 0.0070 - accuracy: 0.9990 - val_loss: 3.0786 - val_accuracy: 0.6976\n",
            "Epoch 87/200\n",
            "990/990 [==============================] - 4s 4ms/step - loss: 0.0316 - accuracy: 0.9919 - val_loss: 2.5728 - val_accuracy: 0.7137\n",
            "Epoch 88/200\n",
            "990/990 [==============================] - 4s 4ms/step - loss: 0.0048 - accuracy: 1.0000 - val_loss: 2.7779 - val_accuracy: 0.7097\n",
            "Epoch 89/200\n",
            "990/990 [==============================] - 4s 4ms/step - loss: 0.0022 - accuracy: 1.0000 - val_loss: 2.6535 - val_accuracy: 0.6855\n",
            "Epoch 90/200\n",
            "990/990 [==============================] - 4s 4ms/step - loss: 0.0051 - accuracy: 0.9980 - val_loss: 2.8379 - val_accuracy: 0.6855\n",
            "Epoch 91/200\n",
            "990/990 [==============================] - 4s 4ms/step - loss: 0.0051 - accuracy: 0.9980 - val_loss: 2.8540 - val_accuracy: 0.6573\n",
            "Epoch 92/200\n",
            "990/990 [==============================] - 4s 4ms/step - loss: 0.0129 - accuracy: 0.9980 - val_loss: 3.6694 - val_accuracy: 0.6855\n",
            "Epoch 93/200\n",
            "990/990 [==============================] - 4s 4ms/step - loss: 0.0060 - accuracy: 0.9990 - val_loss: 3.4964 - val_accuracy: 0.6935\n",
            "Epoch 94/200\n",
            "990/990 [==============================] - 4s 4ms/step - loss: 0.0224 - accuracy: 0.9939 - val_loss: 3.7609 - val_accuracy: 0.6815\n",
            "Epoch 95/200\n",
            "990/990 [==============================] - 4s 4ms/step - loss: 0.0338 - accuracy: 0.9889 - val_loss: 3.2467 - val_accuracy: 0.6694\n",
            "Epoch 96/200\n",
            "990/990 [==============================] - 4s 4ms/step - loss: 0.0068 - accuracy: 0.9980 - val_loss: 3.9059 - val_accuracy: 0.6935\n",
            "Epoch 97/200\n",
            "990/990 [==============================] - 4s 4ms/step - loss: 0.0448 - accuracy: 0.9848 - val_loss: 3.7736 - val_accuracy: 0.6532\n",
            "Epoch 98/200\n",
            "990/990 [==============================] - 4s 4ms/step - loss: 0.0205 - accuracy: 0.9949 - val_loss: 3.7449 - val_accuracy: 0.7016\n",
            "Epoch 99/200\n",
            "990/990 [==============================] - 4s 4ms/step - loss: 0.0194 - accuracy: 0.9939 - val_loss: 3.2996 - val_accuracy: 0.6653\n",
            "Epoch 100/200\n",
            "990/990 [==============================] - 4s 4ms/step - loss: 0.0053 - accuracy: 1.0000 - val_loss: 3.8059 - val_accuracy: 0.6935\n",
            "Epoch 101/200\n",
            "990/990 [==============================] - 4s 4ms/step - loss: 0.0024 - accuracy: 1.0000 - val_loss: 3.7733 - val_accuracy: 0.6734\n",
            "Epoch 102/200\n",
            "990/990 [==============================] - 4s 4ms/step - loss: 0.0028 - accuracy: 1.0000 - val_loss: 4.0331 - val_accuracy: 0.6976\n",
            "Epoch 103/200\n",
            "990/990 [==============================] - 4s 4ms/step - loss: 0.0148 - accuracy: 0.9970 - val_loss: 4.4533 - val_accuracy: 0.6855\n",
            "Epoch 104/200\n",
            "990/990 [==============================] - 4s 4ms/step - loss: 0.0087 - accuracy: 0.9970 - val_loss: 3.3842 - val_accuracy: 0.6895\n",
            "Epoch 105/200\n",
            "990/990 [==============================] - 4s 4ms/step - loss: 0.0030 - accuracy: 1.0000 - val_loss: 4.0914 - val_accuracy: 0.7016\n",
            "Epoch 106/200\n",
            "990/990 [==============================] - 4s 4ms/step - loss: 0.0172 - accuracy: 0.9939 - val_loss: 4.6829 - val_accuracy: 0.7258\n",
            "Epoch 107/200\n",
            "990/990 [==============================] - 4s 4ms/step - loss: 0.0559 - accuracy: 0.9929 - val_loss: 3.2139 - val_accuracy: 0.6734\n",
            "Epoch 108/200\n",
            "990/990 [==============================] - 4s 4ms/step - loss: 0.0301 - accuracy: 0.9909 - val_loss: 3.2760 - val_accuracy: 0.7097\n",
            "Epoch 109/200\n",
            "990/990 [==============================] - 4s 4ms/step - loss: 0.0410 - accuracy: 0.9879 - val_loss: 3.2193 - val_accuracy: 0.7097\n",
            "Epoch 110/200\n",
            "990/990 [==============================] - 4s 4ms/step - loss: 0.0314 - accuracy: 0.9899 - val_loss: 3.3676 - val_accuracy: 0.6935\n",
            "Epoch 111/200\n",
            "990/990 [==============================] - 4s 4ms/step - loss: 0.0426 - accuracy: 0.9919 - val_loss: 2.8648 - val_accuracy: 0.7258\n",
            "Epoch 112/200\n",
            "990/990 [==============================] - 4s 4ms/step - loss: 0.0121 - accuracy: 0.9960 - val_loss: 2.6337 - val_accuracy: 0.6976\n",
            "Epoch 113/200\n",
            "990/990 [==============================] - 4s 4ms/step - loss: 0.0092 - accuracy: 0.9990 - val_loss: 3.0729 - val_accuracy: 0.7137\n",
            "Epoch 114/200\n",
            "990/990 [==============================] - 4s 4ms/step - loss: 0.0068 - accuracy: 0.9990 - val_loss: 3.1532 - val_accuracy: 0.7339\n",
            "Epoch 115/200\n",
            "990/990 [==============================] - 4s 4ms/step - loss: 0.0091 - accuracy: 0.9970 - val_loss: 3.1726 - val_accuracy: 0.7097\n",
            "Epoch 116/200\n",
            "990/990 [==============================] - 4s 4ms/step - loss: 0.0018 - accuracy: 1.0000 - val_loss: 3.1785 - val_accuracy: 0.7056\n",
            "Epoch 117/200\n",
            "990/990 [==============================] - 4s 4ms/step - loss: 0.0187 - accuracy: 0.9960 - val_loss: 4.1388 - val_accuracy: 0.7339\n",
            "Epoch 118/200\n",
            "990/990 [==============================] - 4s 4ms/step - loss: 0.0144 - accuracy: 0.9970 - val_loss: 3.9288 - val_accuracy: 0.7258\n",
            "Epoch 119/200\n",
            "990/990 [==============================] - 4s 4ms/step - loss: 0.0080 - accuracy: 0.9970 - val_loss: 4.1542 - val_accuracy: 0.7137\n",
            "Epoch 120/200\n",
            "990/990 [==============================] - 4s 4ms/step - loss: 0.0129 - accuracy: 0.9960 - val_loss: 3.9241 - val_accuracy: 0.7137\n",
            "Epoch 121/200\n",
            "990/990 [==============================] - 4s 4ms/step - loss: 0.0019 - accuracy: 1.0000 - val_loss: 3.5208 - val_accuracy: 0.6774\n",
            "Epoch 122/200\n",
            "990/990 [==============================] - 4s 4ms/step - loss: 0.0083 - accuracy: 0.9970 - val_loss: 4.7648 - val_accuracy: 0.7177\n",
            "Epoch 123/200\n",
            "990/990 [==============================] - 4s 4ms/step - loss: 0.0110 - accuracy: 0.9970 - val_loss: 4.1648 - val_accuracy: 0.7379\n",
            "Epoch 124/200\n",
            "990/990 [==============================] - 4s 4ms/step - loss: 0.0025 - accuracy: 0.9990 - val_loss: 3.8741 - val_accuracy: 0.7097\n",
            "Epoch 125/200\n",
            "990/990 [==============================] - 4s 4ms/step - loss: 0.0037 - accuracy: 0.9970 - val_loss: 4.0437 - val_accuracy: 0.7218\n",
            "Epoch 126/200\n",
            "990/990 [==============================] - 4s 4ms/step - loss: 0.0013 - accuracy: 1.0000 - val_loss: 4.2291 - val_accuracy: 0.7016\n",
            "Epoch 127/200\n",
            "990/990 [==============================] - 4s 4ms/step - loss: 7.9520e-04 - accuracy: 1.0000 - val_loss: 4.1008 - val_accuracy: 0.7097\n",
            "Epoch 128/200\n",
            "990/990 [==============================] - 4s 4ms/step - loss: 0.0028 - accuracy: 0.9990 - val_loss: 4.0635 - val_accuracy: 0.6976\n",
            "Epoch 129/200\n",
            "990/990 [==============================] - 4s 4ms/step - loss: 0.0169 - accuracy: 0.9990 - val_loss: 4.0220 - val_accuracy: 0.7177\n",
            "Epoch 130/200\n",
            "990/990 [==============================] - 4s 4ms/step - loss: 9.6331e-04 - accuracy: 1.0000 - val_loss: 3.6827 - val_accuracy: 0.7218\n",
            "Epoch 131/200\n",
            "990/990 [==============================] - 4s 4ms/step - loss: 0.0020 - accuracy: 0.9990 - val_loss: 3.8109 - val_accuracy: 0.7258\n",
            "Epoch 132/200\n",
            "990/990 [==============================] - 4s 4ms/step - loss: 0.0020 - accuracy: 1.0000 - val_loss: 3.7522 - val_accuracy: 0.7097\n",
            "Epoch 133/200\n",
            "990/990 [==============================] - 4s 4ms/step - loss: 0.0010 - accuracy: 1.0000 - val_loss: 4.0125 - val_accuracy: 0.7177\n",
            "Epoch 134/200\n",
            "990/990 [==============================] - 4s 4ms/step - loss: 7.5961e-04 - accuracy: 1.0000 - val_loss: 3.8223 - val_accuracy: 0.7258\n",
            "Epoch 135/200\n",
            "990/990 [==============================] - 4s 4ms/step - loss: 5.2274e-04 - accuracy: 1.0000 - val_loss: 3.8203 - val_accuracy: 0.7298\n",
            "Epoch 136/200\n",
            "990/990 [==============================] - 4s 4ms/step - loss: 8.7689e-04 - accuracy: 1.0000 - val_loss: 3.9448 - val_accuracy: 0.7218\n",
            "Epoch 137/200\n",
            "990/990 [==============================] - 4s 4ms/step - loss: 4.7615e-04 - accuracy: 1.0000 - val_loss: 3.8518 - val_accuracy: 0.7218\n",
            "Epoch 138/200\n",
            "990/990 [==============================] - 4s 4ms/step - loss: 5.6668e-04 - accuracy: 1.0000 - val_loss: 3.8254 - val_accuracy: 0.7177\n",
            "Epoch 139/200\n",
            "990/990 [==============================] - 4s 4ms/step - loss: 5.3865e-04 - accuracy: 1.0000 - val_loss: 3.9965 - val_accuracy: 0.7137\n",
            "Epoch 140/200\n",
            "990/990 [==============================] - 4s 4ms/step - loss: 4.9513e-04 - accuracy: 1.0000 - val_loss: 4.3816 - val_accuracy: 0.7258\n",
            "Epoch 141/200\n",
            "990/990 [==============================] - 4s 4ms/step - loss: 0.0034 - accuracy: 0.9990 - val_loss: 4.4365 - val_accuracy: 0.7177\n",
            "Epoch 142/200\n",
            "990/990 [==============================] - 4s 4ms/step - loss: 0.0887 - accuracy: 0.9838 - val_loss: 4.2706 - val_accuracy: 0.6492\n",
            "Epoch 143/200\n",
            "990/990 [==============================] - 4s 4ms/step - loss: 0.0549 - accuracy: 0.9848 - val_loss: 4.5613 - val_accuracy: 0.6855\n",
            "Epoch 144/200\n",
            "990/990 [==============================] - 4s 4ms/step - loss: 0.0232 - accuracy: 0.9909 - val_loss: 4.2134 - val_accuracy: 0.6774\n",
            "Epoch 145/200\n",
            "990/990 [==============================] - 4s 4ms/step - loss: 0.0591 - accuracy: 0.9879 - val_loss: 3.8033 - val_accuracy: 0.6694\n",
            "Epoch 146/200\n",
            "990/990 [==============================] - 4s 4ms/step - loss: 0.0475 - accuracy: 0.9848 - val_loss: 3.4905 - val_accuracy: 0.6855\n",
            "Epoch 147/200\n",
            "990/990 [==============================] - 4s 4ms/step - loss: 0.0247 - accuracy: 0.9939 - val_loss: 3.0204 - val_accuracy: 0.6815\n",
            "Epoch 148/200\n",
            "990/990 [==============================] - 4s 4ms/step - loss: 0.0117 - accuracy: 0.9970 - val_loss: 3.1658 - val_accuracy: 0.6935\n",
            "Epoch 149/200\n",
            "990/990 [==============================] - 4s 4ms/step - loss: 0.0069 - accuracy: 0.9980 - val_loss: 3.1614 - val_accuracy: 0.6815\n",
            "Epoch 150/200\n",
            "990/990 [==============================] - 4s 4ms/step - loss: 0.0061 - accuracy: 0.9980 - val_loss: 3.4783 - val_accuracy: 0.6815\n",
            "Epoch 151/200\n",
            "990/990 [==============================] - 4s 4ms/step - loss: 0.0032 - accuracy: 0.9990 - val_loss: 3.3917 - val_accuracy: 0.6653\n",
            "Epoch 152/200\n",
            "990/990 [==============================] - 4s 4ms/step - loss: 0.0024 - accuracy: 1.0000 - val_loss: 3.2870 - val_accuracy: 0.6653\n",
            "Epoch 153/200\n",
            "990/990 [==============================] - 4s 4ms/step - loss: 0.0044 - accuracy: 0.9980 - val_loss: 3.1104 - val_accuracy: 0.6774\n",
            "Epoch 154/200\n",
            "990/990 [==============================] - 4s 4ms/step - loss: 0.0082 - accuracy: 0.9960 - val_loss: 3.6983 - val_accuracy: 0.6895\n",
            "Epoch 155/200\n",
            "990/990 [==============================] - 4s 4ms/step - loss: 0.0086 - accuracy: 0.9990 - val_loss: 3.9739 - val_accuracy: 0.7137\n",
            "Epoch 156/200\n",
            "990/990 [==============================] - 4s 4ms/step - loss: 0.0020 - accuracy: 1.0000 - val_loss: 3.6383 - val_accuracy: 0.6895\n",
            "Epoch 157/200\n",
            "990/990 [==============================] - 4s 4ms/step - loss: 0.0015 - accuracy: 1.0000 - val_loss: 3.3799 - val_accuracy: 0.7016\n",
            "Epoch 158/200\n",
            "990/990 [==============================] - 4s 4ms/step - loss: 0.0021 - accuracy: 0.9990 - val_loss: 3.6193 - val_accuracy: 0.6976\n",
            "Epoch 159/200\n",
            "990/990 [==============================] - 4s 4ms/step - loss: 6.5628e-04 - accuracy: 1.0000 - val_loss: 3.6651 - val_accuracy: 0.6976\n",
            "Epoch 160/200\n",
            "990/990 [==============================] - 4s 4ms/step - loss: 4.3516e-04 - accuracy: 1.0000 - val_loss: 3.6906 - val_accuracy: 0.6976\n",
            "Epoch 161/200\n",
            "990/990 [==============================] - 4s 4ms/step - loss: 0.0010 - accuracy: 1.0000 - val_loss: 3.7817 - val_accuracy: 0.7016\n",
            "Epoch 162/200\n",
            "990/990 [==============================] - 4s 4ms/step - loss: 0.0044 - accuracy: 0.9990 - val_loss: 3.3627 - val_accuracy: 0.6855\n",
            "Epoch 163/200\n",
            "990/990 [==============================] - 4s 4ms/step - loss: 0.0030 - accuracy: 0.9990 - val_loss: 3.2575 - val_accuracy: 0.6815\n",
            "Epoch 164/200\n",
            "990/990 [==============================] - 4s 4ms/step - loss: 0.0134 - accuracy: 0.9960 - val_loss: 5.3108 - val_accuracy: 0.7056\n",
            "Epoch 165/200\n",
            "990/990 [==============================] - 4s 4ms/step - loss: 0.0104 - accuracy: 0.9949 - val_loss: 4.0009 - val_accuracy: 0.6815\n",
            "Epoch 166/200\n",
            "990/990 [==============================] - 4s 4ms/step - loss: 0.0074 - accuracy: 0.9980 - val_loss: 4.7855 - val_accuracy: 0.7016\n",
            "Epoch 167/200\n",
            "990/990 [==============================] - 4s 4ms/step - loss: 0.0019 - accuracy: 1.0000 - val_loss: 4.6482 - val_accuracy: 0.7218\n",
            "Epoch 168/200\n",
            "990/990 [==============================] - 4s 4ms/step - loss: 0.0128 - accuracy: 0.9970 - val_loss: 5.5053 - val_accuracy: 0.7218\n",
            "Epoch 169/200\n",
            "990/990 [==============================] - 4s 4ms/step - loss: 0.0026 - accuracy: 1.0000 - val_loss: 4.8804 - val_accuracy: 0.6976\n",
            "Epoch 170/200\n",
            "990/990 [==============================] - 4s 4ms/step - loss: 0.0118 - accuracy: 0.9949 - val_loss: 4.2330 - val_accuracy: 0.7218\n",
            "Epoch 171/200\n",
            "990/990 [==============================] - 4s 4ms/step - loss: 0.0010 - accuracy: 1.0000 - val_loss: 4.4155 - val_accuracy: 0.7097\n",
            "Epoch 172/200\n",
            "990/990 [==============================] - 4s 4ms/step - loss: 5.1873e-04 - accuracy: 1.0000 - val_loss: 4.3893 - val_accuracy: 0.7016\n",
            "Epoch 173/200\n",
            "990/990 [==============================] - 4s 4ms/step - loss: 0.0014 - accuracy: 0.9990 - val_loss: 4.3912 - val_accuracy: 0.7016\n",
            "Epoch 174/200\n",
            "990/990 [==============================] - 4s 4ms/step - loss: 0.0014 - accuracy: 1.0000 - val_loss: 4.4808 - val_accuracy: 0.6935\n",
            "Epoch 175/200\n",
            "990/990 [==============================] - 4s 4ms/step - loss: 6.0207e-04 - accuracy: 1.0000 - val_loss: 4.5536 - val_accuracy: 0.6976\n",
            "Epoch 176/200\n",
            "990/990 [==============================] - 4s 4ms/step - loss: 3.7614e-04 - accuracy: 1.0000 - val_loss: 4.5577 - val_accuracy: 0.6935\n",
            "Epoch 177/200\n",
            "990/990 [==============================] - 4s 4ms/step - loss: 4.5652e-04 - accuracy: 1.0000 - val_loss: 4.5497 - val_accuracy: 0.6935\n",
            "Epoch 178/200\n",
            "990/990 [==============================] - 4s 4ms/step - loss: 1.8584e-04 - accuracy: 1.0000 - val_loss: 4.5680 - val_accuracy: 0.6935\n",
            "Epoch 179/200\n",
            "990/990 [==============================] - 4s 4ms/step - loss: 2.2218e-04 - accuracy: 1.0000 - val_loss: 4.5793 - val_accuracy: 0.6935\n",
            "Epoch 180/200\n",
            "990/990 [==============================] - 4s 4ms/step - loss: 2.8328e-04 - accuracy: 1.0000 - val_loss: 4.7015 - val_accuracy: 0.6935\n",
            "Epoch 181/200\n",
            "990/990 [==============================] - 4s 4ms/step - loss: 2.3786e-04 - accuracy: 1.0000 - val_loss: 4.7175 - val_accuracy: 0.7016\n",
            "Epoch 182/200\n",
            "990/990 [==============================] - 4s 4ms/step - loss: 2.4604e-04 - accuracy: 1.0000 - val_loss: 4.7332 - val_accuracy: 0.7056\n",
            "Epoch 183/200\n",
            "990/990 [==============================] - 4s 4ms/step - loss: 2.8239e-04 - accuracy: 1.0000 - val_loss: 4.7150 - val_accuracy: 0.7097\n",
            "Epoch 184/200\n",
            "990/990 [==============================] - 4s 4ms/step - loss: 1.8246e-04 - accuracy: 1.0000 - val_loss: 4.7393 - val_accuracy: 0.7056\n",
            "Epoch 185/200\n",
            "990/990 [==============================] - 4s 4ms/step - loss: 2.0123e-04 - accuracy: 1.0000 - val_loss: 4.7519 - val_accuracy: 0.7056\n",
            "Epoch 186/200\n",
            "990/990 [==============================] - 4s 4ms/step - loss: 2.2027e-04 - accuracy: 1.0000 - val_loss: 4.7655 - val_accuracy: 0.7056\n",
            "Epoch 187/200\n",
            "990/990 [==============================] - 4s 4ms/step - loss: 1.6852e-04 - accuracy: 1.0000 - val_loss: 4.7807 - val_accuracy: 0.7056\n",
            "Epoch 188/200\n",
            "990/990 [==============================] - 4s 4ms/step - loss: 3.5076e-04 - accuracy: 1.0000 - val_loss: 4.9119 - val_accuracy: 0.7097\n",
            "Epoch 189/200\n",
            "990/990 [==============================] - 4s 4ms/step - loss: 0.0028 - accuracy: 0.9980 - val_loss: 4.7593 - val_accuracy: 0.7177\n",
            "Epoch 190/200\n",
            "990/990 [==============================] - 4s 4ms/step - loss: 0.0010 - accuracy: 1.0000 - val_loss: 4.9582 - val_accuracy: 0.7298\n",
            "Epoch 191/200\n",
            "990/990 [==============================] - 4s 4ms/step - loss: 4.5420e-04 - accuracy: 1.0000 - val_loss: 5.0314 - val_accuracy: 0.7258\n",
            "Epoch 192/200\n",
            "990/990 [==============================] - 4s 4ms/step - loss: 4.2330e-04 - accuracy: 1.0000 - val_loss: 4.9315 - val_accuracy: 0.7258\n",
            "Epoch 193/200\n",
            "990/990 [==============================] - 4s 4ms/step - loss: 2.1292e-04 - accuracy: 1.0000 - val_loss: 4.9431 - val_accuracy: 0.7298\n",
            "Epoch 194/200\n",
            "990/990 [==============================] - 4s 4ms/step - loss: 6.0741e-04 - accuracy: 1.0000 - val_loss: 4.8204 - val_accuracy: 0.7218\n",
            "Epoch 195/200\n",
            "990/990 [==============================] - 4s 4ms/step - loss: 3.1143e-04 - accuracy: 1.0000 - val_loss: 4.8902 - val_accuracy: 0.7218\n",
            "Epoch 196/200\n",
            "990/990 [==============================] - 4s 4ms/step - loss: 2.3901e-04 - accuracy: 1.0000 - val_loss: 4.8291 - val_accuracy: 0.7177\n",
            "Epoch 197/200\n",
            "990/990 [==============================] - 4s 4ms/step - loss: 3.5925e-04 - accuracy: 1.0000 - val_loss: 4.7314 - val_accuracy: 0.7097\n",
            "Epoch 198/200\n",
            "990/990 [==============================] - 4s 4ms/step - loss: 0.0027 - accuracy: 0.9990 - val_loss: 4.7443 - val_accuracy: 0.7016\n",
            "Epoch 199/200\n",
            "990/990 [==============================] - 4s 4ms/step - loss: 0.0304 - accuracy: 0.9919 - val_loss: 6.3126 - val_accuracy: 0.7056\n",
            "Epoch 200/200\n",
            "990/990 [==============================] - 4s 4ms/step - loss: 0.0370 - accuracy: 0.9879 - val_loss: 4.3637 - val_accuracy: 0.7218\n"
          ]
        }
      ]
    },
    {
      "cell_type": "code",
      "source": [
        "model.save('model.h5')"
      ],
      "metadata": {
        "id": "1gs94y9serPT"
      },
      "execution_count": 18,
      "outputs": []
    },
    {
      "cell_type": "code",
      "source": [
        "from matplotlib import pyplot as plt"
      ],
      "metadata": {
        "id": "HS8Xigu8evJx"
      },
      "execution_count": 19,
      "outputs": []
    },
    {
      "cell_type": "code",
      "source": [
        "# plot the training loss and accuracy\n",
        "N = 200\n",
        "plt.style.use(\"ggplot\")\n",
        "plt.figure()\n",
        "plt.plot(np.arange(0, N), history.history[\"loss\"], label=\"train_loss\")\n",
        "plt.plot(np.arange(0, N), history.history[\"val_loss\"], label=\"val_loss\")\n",
        "plt.plot(np.arange(0, N), history.history[\"accuracy\"], label=\"train_acc\")\n",
        "plt.plot(np.arange(0, N), history.history[\"val_accuracy\"], label=\"val_acc\")\n",
        "plt.title(\"Training Loss and Accuracy\")\n",
        "plt.xlabel(\"Epoch #\")\n",
        "plt.ylabel(\"Loss/Accuracy\")\n",
        "plt.legend(loc=\"center right\")\n",
        "plt.savefig(\"CNN_Model\")"
      ],
      "metadata": {
        "colab": {
          "base_uri": "https://localhost:8080/",
          "height": 299
        },
        "id": "vJ9R39uaexaS",
        "outputId": "20a1155a-a325-4c69-fc2c-8cf94f2a8449"
      },
      "execution_count": 20,
      "outputs": [
        {
          "output_type": "display_data",
          "data": {
            "text/plain": [
              "<Figure size 432x288 with 1 Axes>"
            ],
            "image/png": "[encoded data removed]"
          },
          "metadata": {}
        }
      ]
    },
    {
      "cell_type": "code",
      "source": [
        ""
      ],
      "metadata": {
        "id": "kUJ17f0-ez4k"
      },
      "execution_count": null,
      "outputs": []
    }
  ]
}